{
 "cells": [
  {
   "cell_type": "markdown",
   "metadata": {},
   "source": [
    "# Analysing US Gun Deaths"
   ]
  },
  {
   "cell_type": "code",
   "execution_count": 50,
   "metadata": {
    "collapsed": true
   },
   "outputs": [],
   "source": [
    "#import lib \n",
    "import pandas as pd\n",
    "import matplotlib.pyplot as plt\n",
    "import seaborn as sns\n",
    "import numpy as np\n",
    "%matplotlib inline"
   ]
  },
  {
   "cell_type": "code",
   "execution_count": 2,
   "metadata": {
    "collapsed": true
   },
   "outputs": [],
   "source": [
    "#open the csv file\n",
    "guns = pd.read_csv(\"full_data.csv\")"
   ]
  },
  {
   "cell_type": "code",
   "execution_count": 3,
   "metadata": {
    "collapsed": false
   },
   "outputs": [
    {
     "data": {
      "text/html": [
       "<div>\n",
       "<table border=\"1\" class=\"dataframe\">\n",
       "  <thead>\n",
       "    <tr style=\"text-align: right;\">\n",
       "      <th></th>\n",
       "      <th>Unnamed: 0</th>\n",
       "      <th>year</th>\n",
       "      <th>month</th>\n",
       "      <th>intent</th>\n",
       "      <th>police</th>\n",
       "      <th>sex</th>\n",
       "      <th>age</th>\n",
       "      <th>race</th>\n",
       "      <th>hispanic</th>\n",
       "      <th>place</th>\n",
       "      <th>education</th>\n",
       "    </tr>\n",
       "  </thead>\n",
       "  <tbody>\n",
       "    <tr>\n",
       "      <th>0</th>\n",
       "      <td>1</td>\n",
       "      <td>2012</td>\n",
       "      <td>1</td>\n",
       "      <td>Suicide</td>\n",
       "      <td>0</td>\n",
       "      <td>M</td>\n",
       "      <td>34.0</td>\n",
       "      <td>Asian/Pacific Islander</td>\n",
       "      <td>100</td>\n",
       "      <td>Home</td>\n",
       "      <td>4.0</td>\n",
       "    </tr>\n",
       "    <tr>\n",
       "      <th>1</th>\n",
       "      <td>2</td>\n",
       "      <td>2012</td>\n",
       "      <td>1</td>\n",
       "      <td>Suicide</td>\n",
       "      <td>0</td>\n",
       "      <td>F</td>\n",
       "      <td>21.0</td>\n",
       "      <td>White</td>\n",
       "      <td>100</td>\n",
       "      <td>Street</td>\n",
       "      <td>3.0</td>\n",
       "    </tr>\n",
       "    <tr>\n",
       "      <th>2</th>\n",
       "      <td>3</td>\n",
       "      <td>2012</td>\n",
       "      <td>1</td>\n",
       "      <td>Suicide</td>\n",
       "      <td>0</td>\n",
       "      <td>M</td>\n",
       "      <td>60.0</td>\n",
       "      <td>White</td>\n",
       "      <td>100</td>\n",
       "      <td>Other specified</td>\n",
       "      <td>4.0</td>\n",
       "    </tr>\n",
       "    <tr>\n",
       "      <th>3</th>\n",
       "      <td>4</td>\n",
       "      <td>2012</td>\n",
       "      <td>2</td>\n",
       "      <td>Suicide</td>\n",
       "      <td>0</td>\n",
       "      <td>M</td>\n",
       "      <td>64.0</td>\n",
       "      <td>White</td>\n",
       "      <td>100</td>\n",
       "      <td>Home</td>\n",
       "      <td>4.0</td>\n",
       "    </tr>\n",
       "    <tr>\n",
       "      <th>4</th>\n",
       "      <td>5</td>\n",
       "      <td>2012</td>\n",
       "      <td>2</td>\n",
       "      <td>Suicide</td>\n",
       "      <td>0</td>\n",
       "      <td>M</td>\n",
       "      <td>31.0</td>\n",
       "      <td>White</td>\n",
       "      <td>100</td>\n",
       "      <td>Other specified</td>\n",
       "      <td>2.0</td>\n",
       "    </tr>\n",
       "    <tr>\n",
       "      <th>5</th>\n",
       "      <td>6</td>\n",
       "      <td>2012</td>\n",
       "      <td>2</td>\n",
       "      <td>Suicide</td>\n",
       "      <td>0</td>\n",
       "      <td>M</td>\n",
       "      <td>17.0</td>\n",
       "      <td>Native American/Native Alaskan</td>\n",
       "      <td>100</td>\n",
       "      <td>Home</td>\n",
       "      <td>1.0</td>\n",
       "    </tr>\n",
       "    <tr>\n",
       "      <th>6</th>\n",
       "      <td>7</td>\n",
       "      <td>2012</td>\n",
       "      <td>2</td>\n",
       "      <td>Undetermined</td>\n",
       "      <td>0</td>\n",
       "      <td>M</td>\n",
       "      <td>48.0</td>\n",
       "      <td>White</td>\n",
       "      <td>100</td>\n",
       "      <td>Home</td>\n",
       "      <td>2.0</td>\n",
       "    </tr>\n",
       "    <tr>\n",
       "      <th>7</th>\n",
       "      <td>8</td>\n",
       "      <td>2012</td>\n",
       "      <td>3</td>\n",
       "      <td>Suicide</td>\n",
       "      <td>0</td>\n",
       "      <td>M</td>\n",
       "      <td>41.0</td>\n",
       "      <td>Native American/Native Alaskan</td>\n",
       "      <td>100</td>\n",
       "      <td>Home</td>\n",
       "      <td>2.0</td>\n",
       "    </tr>\n",
       "    <tr>\n",
       "      <th>8</th>\n",
       "      <td>9</td>\n",
       "      <td>2012</td>\n",
       "      <td>2</td>\n",
       "      <td>Accidental</td>\n",
       "      <td>0</td>\n",
       "      <td>M</td>\n",
       "      <td>50.0</td>\n",
       "      <td>White</td>\n",
       "      <td>100</td>\n",
       "      <td>Other specified</td>\n",
       "      <td>3.0</td>\n",
       "    </tr>\n",
       "    <tr>\n",
       "      <th>9</th>\n",
       "      <td>10</td>\n",
       "      <td>2012</td>\n",
       "      <td>2</td>\n",
       "      <td>Suicide</td>\n",
       "      <td>0</td>\n",
       "      <td>M</td>\n",
       "      <td>NaN</td>\n",
       "      <td>Black</td>\n",
       "      <td>998</td>\n",
       "      <td>Home</td>\n",
       "      <td>5.0</td>\n",
       "    </tr>\n",
       "  </tbody>\n",
       "</table>\n",
       "</div>"
      ],
      "text/plain": [
       "   Unnamed: 0  year  month        intent  police sex   age  \\\n",
       "0           1  2012      1       Suicide       0   M  34.0   \n",
       "1           2  2012      1       Suicide       0   F  21.0   \n",
       "2           3  2012      1       Suicide       0   M  60.0   \n",
       "3           4  2012      2       Suicide       0   M  64.0   \n",
       "4           5  2012      2       Suicide       0   M  31.0   \n",
       "5           6  2012      2       Suicide       0   M  17.0   \n",
       "6           7  2012      2  Undetermined       0   M  48.0   \n",
       "7           8  2012      3       Suicide       0   M  41.0   \n",
       "8           9  2012      2    Accidental       0   M  50.0   \n",
       "9          10  2012      2       Suicide       0   M   NaN   \n",
       "\n",
       "                             race  hispanic            place  education  \n",
       "0          Asian/Pacific Islander       100             Home        4.0  \n",
       "1                           White       100           Street        3.0  \n",
       "2                           White       100  Other specified        4.0  \n",
       "3                           White       100             Home        4.0  \n",
       "4                           White       100  Other specified        2.0  \n",
       "5  Native American/Native Alaskan       100             Home        1.0  \n",
       "6                           White       100             Home        2.0  \n",
       "7  Native American/Native Alaskan       100             Home        2.0  \n",
       "8                           White       100  Other specified        3.0  \n",
       "9                           Black       998             Home        5.0  "
      ]
     },
     "execution_count": 3,
     "metadata": {},
     "output_type": "execute_result"
    }
   ],
   "source": [
    "#print out the first few rows\n",
    "guns.iloc[0:10,:]"
   ]
  },
  {
   "cell_type": "markdown",
   "metadata": {
    "collapsed": false
   },
   "source": [
    "# Toolbox"
   ]
  },
  {
   "cell_type": "code",
   "execution_count": 4,
   "metadata": {
    "collapsed": false
   },
   "outputs": [],
   "source": [
    "#################################################################\n",
    "# Function to gen a graph \n",
    "# - data = the pandas.datastream\n",
    "# - col = colums name\n",
    "# - annotation = \"middle\" or \"top\" to see the value on top of the bar or in the middle of the bar \n",
    "# - rot = 0 to 90 for the rotation level of the ticklabels\n",
    "#################################################################\n",
    "def MakeMyGraph(data, col, annotation=\"middle\", hue=None, addtop=0, rot=0, ymax=0):\n",
    "    # Global Style\n",
    "    sns.set(style=\"white\")\n",
    "\n",
    "    #gen the plot\n",
    "    ax = sns.countplot(x=col, hue=hue, data=data)\n",
    "\n",
    "    #handling annotation\n",
    "    if annotation == \"middle\":\n",
    "        for p in ax.patches:\n",
    "            ax.text(p.get_x()+p.get_width()/2, p.get_height()/2, int(p.get_height()), color=\"w\", fontweight=\"bold\", ha=\"center\", va=\"center\")\n",
    "            if ymax < p.get_height():\n",
    "                ymax = p.get_height()\n",
    "    elif annotation == \"top\":\n",
    "        for p in ax.patches:\n",
    "            ax.text(p.get_x()+p.get_width()/2, p.get_height()+addtop, int(p.get_height()), color=\"b\", fontweight=\"bold\", ha=\"center\", va=\"center\")\n",
    "            if ymax < p.get_height():\n",
    "                ymax = p.get_height()\n",
    "    else:\n",
    "        print(\"bad annotation parameter\")\n",
    "    \n",
    "    #settings\n",
    "    ax.tick_params(bottom=\"off\", top=\"off\", left=\"off\", right=\"off\") #Hiding Tick Marks\n",
    "    ax.set_yticks([0,int(ymax)]) #show only the extreme value\n",
    "    ax.set_ylabel(\"\") #hiding the \"count\" label\n",
    "    for t in ax.get_xticklabels():\n",
    "        t.set(rotation=rot)\n",
    "    sns.despine(left=True, bottom=True) #hiding axes left/right/top/bottom\n",
    "    plt.show()"
   ]
  },
  {
   "cell_type": "markdown",
   "metadata": {},
   "source": [
    "# Gun Deaths by Year"
   ]
  },
  {
   "cell_type": "code",
   "execution_count": 5,
   "metadata": {
    "collapsed": false
   },
   "outputs": [
    {
     "data": {
      "image/png": "[encoded data removed]",
      "text/plain": [
       "<matplotlib.figure.Figure at 0x10c9f7550>"
      ]
     },
     "metadata": {},
     "output_type": "display_data"
    }
   ],
   "source": [
    "MakeMyGraph(data=guns, col=\"year\", annotation=\"middle\", rot=0, ymax=34000)"
   ]
  },
  {
   "cell_type": "markdown",
   "metadata": {},
   "source": [
    "     Deaths by guns is pretty stable over the years."
   ]
  },
  {
   "cell_type": "markdown",
   "metadata": {},
   "source": [
    "# Gun Deaths by Year and Month"
   ]
  },
  {
   "cell_type": "code",
   "execution_count": 6,
   "metadata": {
    "collapsed": false
   },
   "outputs": [
    {
     "data": {
      "image/png": "[encoded data removed]",
      "text/plain": [
       "<matplotlib.figure.Figure at 0x11033c240>"
      ]
     },
     "metadata": {},
     "output_type": "display_data"
    }
   ],
   "source": [
    "#set sns style\n",
    "sns.set(style=\"white\")\n",
    "\n",
    "#gen the plot\n",
    "ax = sns.countplot(x=\"month\", hue=\"year\", data=guns)\n",
    "\n",
    "ax.tick_params(bottom=\"off\", top=\"off\", left=\"off\", right=\"off\") #Hiding Tick Marks\n",
    "ax.set_yticks([0,3100]) #show only the extreme value\n",
    "ax.set_ylabel(\"\") #hiding the \"count\" label\n",
    "\n",
    "sns.despine(left=True, bottom=True) #hiding axes left/right/top/bottom\n",
    "plt.legend()\n",
    "\n",
    "#print the graph\n",
    "plt.show()"
   ]
  },
  {
   "cell_type": "markdown",
   "metadata": {},
   "source": [
    "    In february, the number of deaths is much lower,but why?"
   ]
  },
  {
   "cell_type": "markdown",
   "metadata": {},
   "source": [
    "# Guns Deaths By Race And Sex"
   ]
  },
  {
   "cell_type": "code",
   "execution_count": 7,
   "metadata": {
    "collapsed": false
   },
   "outputs": [
    {
     "data": {
      "image/png": "[encoded data removed]",
      "text/plain": [
       "<matplotlib.figure.Figure at 0x110333e80>"
      ]
     },
     "metadata": {},
     "output_type": "display_data"
    }
   ],
   "source": [
    "MakeMyGraph(data=guns, col=\"sex\", annotation=\"middle\", rot=0, ymax=87000)"
   ]
  },
  {
   "cell_type": "markdown",
   "metadata": {},
   "source": [
    "As expected, men are much more represented."
   ]
  },
  {
   "cell_type": "code",
   "execution_count": 8,
   "metadata": {
    "collapsed": false
   },
   "outputs": [
    {
     "data": {
      "image/png": "[encoded data removed]",
      "text/plain": [
       "<matplotlib.figure.Figure at 0x11036f7f0>"
      ]
     },
     "metadata": {},
     "output_type": "display_data"
    }
   ],
   "source": [
    "MakeMyGraph(data=guns, col=\"race\", annotation=\"top\", addtop=1300, rot=55, ymax=67000)"
   ]
  },
  {
   "cell_type": "markdown",
   "metadata": {},
   "source": [
    "We need some extra information about the structure of the population."
   ]
  },
  {
   "cell_type": "markdown",
   "metadata": {},
   "source": [
    "# Proportion Of Each Race In The US\n",
    "    To meaningfully compare the previous numbers : we calculate a rate of gun deaths per 100000 people of each race"
   ]
  },
  {
   "cell_type": "code",
   "execution_count": 9,
   "metadata": {
    "collapsed": false
   },
   "outputs": [
    {
     "data": {
      "text/html": [
       "<div>\n",
       "<table border=\"1\" class=\"dataframe\">\n",
       "  <thead>\n",
       "    <tr style=\"text-align: right;\">\n",
       "      <th></th>\n",
       "      <th>Id</th>\n",
       "      <th>Year</th>\n",
       "      <th>Id.1</th>\n",
       "      <th>Sex</th>\n",
       "      <th>Id.2</th>\n",
       "      <th>Hispanic Origin</th>\n",
       "      <th>Id.3</th>\n",
       "      <th>Id2</th>\n",
       "      <th>Geography</th>\n",
       "      <th>Total</th>\n",
       "      <th>Race Alone - White</th>\n",
       "      <th>Race Alone - Hispanic</th>\n",
       "      <th>Race Alone - Black or African American</th>\n",
       "      <th>Race Alone - American Indian and Alaska Native</th>\n",
       "      <th>Race Alone - Asian</th>\n",
       "      <th>Race Alone - Native Hawaiian and Other Pacific Islander</th>\n",
       "      <th>Two or More Races</th>\n",
       "    </tr>\n",
       "  </thead>\n",
       "  <tbody>\n",
       "    <tr>\n",
       "      <th>0</th>\n",
       "      <td>cen42010</td>\n",
       "      <td>April 1, 2010 Census</td>\n",
       "      <td>totsex</td>\n",
       "      <td>Both Sexes</td>\n",
       "      <td>tothisp</td>\n",
       "      <td>Total</td>\n",
       "      <td>0100000US</td>\n",
       "      <td>NaN</td>\n",
       "      <td>United States</td>\n",
       "      <td>308745538</td>\n",
       "      <td>197318956</td>\n",
       "      <td>44618105</td>\n",
       "      <td>40250635</td>\n",
       "      <td>3739506</td>\n",
       "      <td>15159516</td>\n",
       "      <td>674625</td>\n",
       "      <td>6984195</td>\n",
       "    </tr>\n",
       "  </tbody>\n",
       "</table>\n",
       "</div>"
      ],
      "text/plain": [
       "         Id                  Year    Id.1         Sex     Id.2  \\\n",
       "0  cen42010  April 1, 2010 Census  totsex  Both Sexes  tothisp   \n",
       "\n",
       "  Hispanic Origin       Id.3  Id2      Geography      Total  \\\n",
       "0           Total  0100000US  NaN  United States  308745538   \n",
       "\n",
       "   Race Alone - White  Race Alone - Hispanic  \\\n",
       "0           197318956               44618105   \n",
       "\n",
       "   Race Alone - Black or African American  \\\n",
       "0                                40250635   \n",
       "\n",
       "   Race Alone - American Indian and Alaska Native  Race Alone - Asian  \\\n",
       "0                                         3739506            15159516   \n",
       "\n",
       "   Race Alone - Native Hawaiian and Other Pacific Islander  Two or More Races  \n",
       "0                                             674625                  6984195  "
      ]
     },
     "execution_count": 9,
     "metadata": {},
     "output_type": "execute_result"
    }
   ],
   "source": [
    "# Open census.csv\n",
    "# A census is the procedure of systematically \n",
    "# acquiring and recording information about the members of a given population.\n",
    "census = pd.read_csv(\"census.csv\")\n",
    "census.iloc[:,:]"
   ]
  },
  {
   "cell_type": "code",
   "execution_count": 37,
   "metadata": {
    "collapsed": false
   },
   "outputs": [
    {
     "name": "stdout",
     "output_type": "stream",
     "text": [
      "White                             66237\n",
      "Black                             23296\n",
      "Hispanic                           9022\n",
      "Asian/Pacific Islander             1326\n",
      "Native American/Native Alaskan      917\n",
      "Name: race, dtype: int64\n"
     ]
    }
   ],
   "source": [
    "# Compute the percentage chance that a given person in the White \n",
    "# census race category would have been killed by a gun in the US from 2012 to 2014\n",
    "# in rate per 100000\n",
    "race_counts = guns[\"race\"].value_counts()\n",
    "print(race_counts)"
   ]
  },
  {
   "cell_type": "code",
   "execution_count": 11,
   "metadata": {
    "collapsed": false
   },
   "outputs": [
    {
     "data": {
      "text/html": [
       "<div>\n",
       "<table border=\"1\" class=\"dataframe\">\n",
       "  <thead>\n",
       "    <tr style=\"text-align: right;\">\n",
       "      <th></th>\n",
       "      <th>Race Alone - White</th>\n",
       "      <th>Race Alone - Hispanic</th>\n",
       "      <th>Race Alone - Black or African American</th>\n",
       "      <th>Race Alone - American Indian and Alaska Native</th>\n",
       "      <th>Asian/Pacific Islander</th>\n",
       "    </tr>\n",
       "  </thead>\n",
       "  <tbody>\n",
       "    <tr>\n",
       "      <th>0</th>\n",
       "      <td>197318956</td>\n",
       "      <td>44618105</td>\n",
       "      <td>40250635</td>\n",
       "      <td>3739506</td>\n",
       "      <td>15834141</td>\n",
       "    </tr>\n",
       "  </tbody>\n",
       "</table>\n",
       "</div>"
      ],
      "text/plain": [
       "   Race Alone - White  Race Alone - Hispanic  \\\n",
       "0           197318956               44618105   \n",
       "\n",
       "   Race Alone - Black or African American  \\\n",
       "0                                40250635   \n",
       "\n",
       "   Race Alone - American Indian and Alaska Native  Asian/Pacific Islander  \n",
       "0                                         3739506                15834141  "
      ]
     },
     "execution_count": 11,
     "metadata": {},
     "output_type": "execute_result"
    }
   ],
   "source": [
    "#cut the slice of data we need \n",
    "new_census = census.iloc[:,10:14]\n",
    "#add the two last col and rename it\n",
    "new_census[\"Asian/Pacific Islander\"] = census[\"Race Alone - Asian\"] + census[\"Race Alone - Native Hawaiian and Other Pacific Islander\"]\n",
    "new_census.iloc[:,:]"
   ]
  },
  {
   "cell_type": "code",
   "execution_count": 12,
   "metadata": {
    "collapsed": false
   },
   "outputs": [
    {
     "data": {
      "text/html": [
       "<div>\n",
       "<table border=\"1\" class=\"dataframe\">\n",
       "  <thead>\n",
       "    <tr style=\"text-align: right;\">\n",
       "      <th></th>\n",
       "      <th>White</th>\n",
       "      <th>Hispanic</th>\n",
       "      <th>Black</th>\n",
       "      <th>Native American/Native Alaskan</th>\n",
       "      <th>Asian/Pacific Islander</th>\n",
       "    </tr>\n",
       "  </thead>\n",
       "  <tbody>\n",
       "    <tr>\n",
       "      <th>0</th>\n",
       "      <td>197318956</td>\n",
       "      <td>44618105</td>\n",
       "      <td>40250635</td>\n",
       "      <td>3739506</td>\n",
       "      <td>15834141</td>\n",
       "    </tr>\n",
       "  </tbody>\n",
       "</table>\n",
       "</div>"
      ],
      "text/plain": [
       "       White  Hispanic     Black  Native American/Native Alaskan  \\\n",
       "0  197318956  44618105  40250635                         3739506   \n",
       "\n",
       "   Asian/Pacific Islander  \n",
       "0                15834141  "
      ]
     },
     "execution_count": 12,
     "metadata": {},
     "output_type": "execute_result"
    }
   ],
   "source": [
    "#rename the cols to match with the race_counts cols \n",
    "mapping = {\n",
    "    \"Race Alone - White\" : \"White\",\n",
    "    \"Race Alone - Hispanic\" : \"Hispanic\",\n",
    "    \"Race Alone - Black or African American\" : \"Black\",\n",
    "    \"Race Alone - American Indian and Alaska Native\" : \"Native American/Native Alaskan\"\n",
    "}\n",
    "new_census.rename(columns=mapping, inplace=True)\n",
    "new_census.iloc[:,:]"
   ]
  },
  {
   "cell_type": "code",
   "execution_count": 35,
   "metadata": {
    "collapsed": false
   },
   "outputs": [],
   "source": [
    "#Computing Rates Of Gun Deaths Per Race\n",
    "rate_per_hundredk = (race_counts / new_census) * 100000"
   ]
  },
  {
   "cell_type": "code",
   "execution_count": 67,
   "metadata": {
    "collapsed": false
   },
   "outputs": [
    {
     "data": {
      "text/html": [
       "<div>\n",
       "<table border=\"1\" class=\"dataframe\">\n",
       "  <thead>\n",
       "    <tr style=\"text-align: right;\">\n",
       "      <th></th>\n",
       "      <th>Asian/Pacific Islander</th>\n",
       "      <th>Black</th>\n",
       "      <th>Hispanic</th>\n",
       "      <th>Native American/Native Alaskan</th>\n",
       "      <th>White</th>\n",
       "    </tr>\n",
       "  </thead>\n",
       "  <tbody>\n",
       "    <tr>\n",
       "      <th>0</th>\n",
       "      <td>8.37431</td>\n",
       "      <td>57.877348</td>\n",
       "      <td>20.220491</td>\n",
       "      <td>24.521956</td>\n",
       "      <td>33.568493</td>\n",
       "    </tr>\n",
       "  </tbody>\n",
       "</table>\n",
       "</div>"
      ],
      "text/plain": [
       "   Asian/Pacific Islander      Black   Hispanic  \\\n",
       "0                 8.37431  57.877348  20.220491   \n",
       "\n",
       "   Native American/Native Alaskan      White  \n",
       "0                       24.521956  33.568493  "
      ]
     },
     "execution_count": 67,
     "metadata": {},
     "output_type": "execute_result"
    }
   ],
   "source": [
    "#print out the info\n",
    "rate_per_hundredk.iloc[:,:]"
   ]
  },
  {
   "cell_type": "markdown",
   "metadata": {},
   "source": [
    "    Interpretation for the white col : \"33.56 out of every 100000 people in the White census race category in the US were killed by guns between 2012 and 2014\""
   ]
  },
  {
   "cell_type": "code",
   "execution_count": 98,
   "metadata": {
    "collapsed": false
   },
   "outputs": [
    {
     "data": {
      "image/png": "[encoded data removed]",
      "text/plain": [
       "<matplotlib.figure.Figure at 0x110b90780>"
      ]
     },
     "metadata": {},
     "output_type": "display_data"
    }
   ],
   "source": [
    "#gen a graph\n",
    "sns.set(style=\"white\") #style\n",
    "x = rate_per_hundredk.T[0].index\n",
    "y = rate_per_hundredk.T[0].values\n",
    "\n",
    "fig, ax = plt.subplots(figsize=(12,6)) #set the size of the figure\n",
    "\n",
    "rect = sns.barplot(x, y) #gen barplot\n",
    "\n",
    "#handle annotation \n",
    "for p in ax.patches:\n",
    "    ax.text(p.get_x()+p.get_width()/2, p.get_height()/2, round(p.get_height(), 2), color=\"w\", fontweight=\"bold\", ha=\"center\", va=\"center\")\n",
    "\n",
    "ax.tick_params(bottom=\"off\", top=\"off\", left=\"off\", right=\"off\") #Hiding Tick Marks\n",
    "ax.set_yticks([]) #hiding the y label\n",
    "ax.set_ylabel(\"\") #hiding the \"count\" label\n",
    "\n",
    "sns.despine(left=True, bottom=True) #hiding axes left/right/top/bottom"
   ]
  },
  {
   "cell_type": "markdown",
   "metadata": {},
   "source": [
    "It seems to have an ethnical bias, but we need to go deeper in the data."
   ]
  },
  {
   "cell_type": "markdown",
   "metadata": {},
   "source": [
    "# Filtering By Intent\n",
    "    We want to focus on Homicide intent and compute the gun-related murder rate per 100000"
   ]
  },
  {
   "cell_type": "code",
   "execution_count": 90,
   "metadata": {
    "collapsed": false
   },
   "outputs": [
    {
     "data": {
      "text/html": [
       "<div>\n",
       "<table border=\"1\" class=\"dataframe\">\n",
       "  <thead>\n",
       "    <tr style=\"text-align: right;\">\n",
       "      <th></th>\n",
       "      <th>Asian/Pacific Islander</th>\n",
       "      <th>Black</th>\n",
       "      <th>Hispanic</th>\n",
       "      <th>Native American/Native Alaskan</th>\n",
       "      <th>White</th>\n",
       "    </tr>\n",
       "  </thead>\n",
       "  <tbody>\n",
       "    <tr>\n",
       "      <th>0</th>\n",
       "      <td>3.530346</td>\n",
       "      <td>48.471285</td>\n",
       "      <td>12.627161</td>\n",
       "      <td>8.717729</td>\n",
       "      <td>4.635642</td>\n",
       "    </tr>\n",
       "  </tbody>\n",
       "</table>\n",
       "</div>"
      ],
      "text/plain": [
       "   Asian/Pacific Islander      Black   Hispanic  \\\n",
       "0                3.530346  48.471285  12.627161   \n",
       "\n",
       "   Native American/Native Alaskan     White  \n",
       "0                        8.717729  4.635642  "
      ]
     },
     "execution_count": 90,
     "metadata": {},
     "output_type": "execute_result"
    }
   ],
   "source": [
    "#filtering by Homicide\n",
    "homicide = guns[guns[\"intent\"] == \"Homicide\"]\n",
    "#get the homicide by race\n",
    "homicide_race_counts = homicide[\"race\"].value_counts()\n",
    "#new_census is not altered so, by our changes...\n",
    "#Computing Rates Of Gun Deaths Per Race\n",
    "homicide_rate_per_hundredk = (homicide_race_counts / new_census) * 100000\n",
    "#print out the info\n",
    "homicide_rate_per_hundredk.iloc[:,:]"
   ]
  },
  {
   "cell_type": "code",
   "execution_count": 91,
   "metadata": {
    "collapsed": false
   },
   "outputs": [
    {
     "data": {
      "image/png": "[encoded data removed]",
      "text/plain": [
       "<matplotlib.figure.Figure at 0x110becf98>"
      ]
     },
     "metadata": {},
     "output_type": "display_data"
    }
   ],
   "source": [
    "#gen a graph\n",
    "sns.set(style=\"white\") #style\n",
    "x = homicide_rate_per_hundredk.T[0].index\n",
    "y = homicide_rate_per_hundredk.T[0].values\n",
    "\n",
    "fig, ax = plt.subplots(figsize=(12,6)) #set the size of the figure\n",
    "\n",
    "rect = sns.barplot(x, y) #gen barplot\n",
    "\n",
    "#handle annotation \n",
    "for p in ax.patches:\n",
    "    ax.text(p.get_x()+p.get_width()/2, p.get_height()/2, int(p.get_height()), color=\"w\", fontweight=\"bold\", ha=\"center\", va=\"center\")\n",
    "\n",
    "ax.tick_params(bottom=\"off\", top=\"off\", left=\"off\", right=\"off\") #Hiding Tick Marks\n",
    "ax.set_yticks([]) #hiding the y label\n",
    "ax.set_ylabel(\"\") #hiding the \"count\" label\n",
    "\n",
    "sns.despine(left=True, bottom=True) #hiding axes left/right/top/bottom"
   ]
  },
  {
   "cell_type": "markdown",
   "metadata": {},
   "source": [
    "    It seems like the black population have a bigger homicide rate per 100 000 than the other comunities. It appears that gun related homicides in the US impact racial categories differently."
   ]
  },
  {
   "cell_type": "markdown",
   "metadata": {},
   "source": [
    "# Guns Deaths for the population of white people"
   ]
  },
  {
   "cell_type": "code",
   "execution_count": 99,
   "metadata": {
    "collapsed": false
   },
   "outputs": [
    {
     "data": {
      "image/png": "[encoded data removed]",
      "text/plain": [
       "<matplotlib.figure.Figure at 0x110bbef98>"
      ]
     },
     "metadata": {},
     "output_type": "display_data"
    }
   ],
   "source": [
    "#Filtrering the data\n",
    "thewhites = guns[guns[\"race\"]==\"White\"]\n",
    "#gen the graph\n",
    "MakeMyGraph(data=thewhites, col=\"intent\", annotation=\"top\", addtop=2000, rot=0, ymax=58000)"
   ]
  },
  {
   "cell_type": "markdown",
   "metadata": {
    "collapsed": true
   },
   "source": [
    "Gun's Suicide is the main reason of guns deaths for white racial categorie."
   ]
  },
  {
   "cell_type": "markdown",
   "metadata": {},
   "source": []
  },
  {
   "cell_type": "code",
   "execution_count": null,
   "metadata": {
    "collapsed": true
   },
   "outputs": [],
   "source": []
  }
 ],
 "metadata": {
  "anaconda-cloud": {},
  "kernelspec": {
   "display_name": "Python [conda root]",
   "language": "python",
   "name": "conda-root-py"
  },
  "language_info": {
   "codemirror_mode": {
    "name": "ipython",
    "version": 3
   },
   "file_extension": ".py",
   "mimetype": "text/x-python",
   "name": "python",
   "nbconvert_exporter": "python",
   "pygments_lexer": "ipython3",
   "version": "3.5.2"
  }
 },
 "nbformat": 4,
 "nbformat_minor": 2
}

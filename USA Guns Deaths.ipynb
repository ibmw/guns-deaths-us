{
 "cells": [
  {
   "cell_type": "markdown",
   "metadata": {},
   "source": [
    "# US Guns Deaths\n",
    "The data comes from [FiveThirtyEight](https://github.com/fivethirtyeight/guns-data)."
   ]
  },
  {
   "cell_type": "markdown",
   "metadata": {},
   "source": [
    "# Introduction"
   ]
  },
  {
   "cell_type": "code",
   "execution_count": 23,
   "metadata": {
    "collapsed": true
   },
   "outputs": [],
   "source": [
    "#import lib \n",
    "import pandas as pd\n",
    "import matplotlib.pyplot as plt\n",
    "import seaborn as sns\n",
    "import numpy as np\n",
    "%matplotlib inline"
   ]
  },
  {
   "cell_type": "code",
   "execution_count": 24,
   "metadata": {
    "collapsed": true
   },
   "outputs": [],
   "source": [
    "#open the csv file\n",
    "guns = pd.read_csv(\"full_data.csv\")"
   ]
  },
  {
   "cell_type": "code",
   "execution_count": 25,
   "metadata": {
    "collapsed": false
   },
   "outputs": [
    {
     "data": {
      "text/html": [
       "<div>\n",
       "<table border=\"1\" class=\"dataframe\">\n",
       "  <thead>\n",
       "    <tr style=\"text-align: right;\">\n",
       "      <th></th>\n",
       "      <th>Unnamed: 0</th>\n",
       "      <th>year</th>\n",
       "      <th>month</th>\n",
       "      <th>intent</th>\n",
       "      <th>police</th>\n",
       "      <th>sex</th>\n",
       "      <th>age</th>\n",
       "      <th>race</th>\n",
       "      <th>hispanic</th>\n",
       "      <th>place</th>\n",
       "      <th>education</th>\n",
       "    </tr>\n",
       "  </thead>\n",
       "  <tbody>\n",
       "    <tr>\n",
       "      <th>0</th>\n",
       "      <td>1</td>\n",
       "      <td>2012</td>\n",
       "      <td>1</td>\n",
       "      <td>Suicide</td>\n",
       "      <td>0</td>\n",
       "      <td>M</td>\n",
       "      <td>34.0</td>\n",
       "      <td>Asian/Pacific Islander</td>\n",
       "      <td>100</td>\n",
       "      <td>Home</td>\n",
       "      <td>4.0</td>\n",
       "    </tr>\n",
       "    <tr>\n",
       "      <th>1</th>\n",
       "      <td>2</td>\n",
       "      <td>2012</td>\n",
       "      <td>1</td>\n",
       "      <td>Suicide</td>\n",
       "      <td>0</td>\n",
       "      <td>F</td>\n",
       "      <td>21.0</td>\n",
       "      <td>White</td>\n",
       "      <td>100</td>\n",
       "      <td>Street</td>\n",
       "      <td>3.0</td>\n",
       "    </tr>\n",
       "    <tr>\n",
       "      <th>2</th>\n",
       "      <td>3</td>\n",
       "      <td>2012</td>\n",
       "      <td>1</td>\n",
       "      <td>Suicide</td>\n",
       "      <td>0</td>\n",
       "      <td>M</td>\n",
       "      <td>60.0</td>\n",
       "      <td>White</td>\n",
       "      <td>100</td>\n",
       "      <td>Other specified</td>\n",
       "      <td>4.0</td>\n",
       "    </tr>\n",
       "    <tr>\n",
       "      <th>3</th>\n",
       "      <td>4</td>\n",
       "      <td>2012</td>\n",
       "      <td>2</td>\n",
       "      <td>Suicide</td>\n",
       "      <td>0</td>\n",
       "      <td>M</td>\n",
       "      <td>64.0</td>\n",
       "      <td>White</td>\n",
       "      <td>100</td>\n",
       "      <td>Home</td>\n",
       "      <td>4.0</td>\n",
       "    </tr>\n",
       "    <tr>\n",
       "      <th>4</th>\n",
       "      <td>5</td>\n",
       "      <td>2012</td>\n",
       "      <td>2</td>\n",
       "      <td>Suicide</td>\n",
       "      <td>0</td>\n",
       "      <td>M</td>\n",
       "      <td>31.0</td>\n",
       "      <td>White</td>\n",
       "      <td>100</td>\n",
       "      <td>Other specified</td>\n",
       "      <td>2.0</td>\n",
       "    </tr>\n",
       "    <tr>\n",
       "      <th>5</th>\n",
       "      <td>6</td>\n",
       "      <td>2012</td>\n",
       "      <td>2</td>\n",
       "      <td>Suicide</td>\n",
       "      <td>0</td>\n",
       "      <td>M</td>\n",
       "      <td>17.0</td>\n",
       "      <td>Native American/Native Alaskan</td>\n",
       "      <td>100</td>\n",
       "      <td>Home</td>\n",
       "      <td>1.0</td>\n",
       "    </tr>\n",
       "    <tr>\n",
       "      <th>6</th>\n",
       "      <td>7</td>\n",
       "      <td>2012</td>\n",
       "      <td>2</td>\n",
       "      <td>Undetermined</td>\n",
       "      <td>0</td>\n",
       "      <td>M</td>\n",
       "      <td>48.0</td>\n",
       "      <td>White</td>\n",
       "      <td>100</td>\n",
       "      <td>Home</td>\n",
       "      <td>2.0</td>\n",
       "    </tr>\n",
       "    <tr>\n",
       "      <th>7</th>\n",
       "      <td>8</td>\n",
       "      <td>2012</td>\n",
       "      <td>3</td>\n",
       "      <td>Suicide</td>\n",
       "      <td>0</td>\n",
       "      <td>M</td>\n",
       "      <td>41.0</td>\n",
       "      <td>Native American/Native Alaskan</td>\n",
       "      <td>100</td>\n",
       "      <td>Home</td>\n",
       "      <td>2.0</td>\n",
       "    </tr>\n",
       "    <tr>\n",
       "      <th>8</th>\n",
       "      <td>9</td>\n",
       "      <td>2012</td>\n",
       "      <td>2</td>\n",
       "      <td>Accidental</td>\n",
       "      <td>0</td>\n",
       "      <td>M</td>\n",
       "      <td>50.0</td>\n",
       "      <td>White</td>\n",
       "      <td>100</td>\n",
       "      <td>Other specified</td>\n",
       "      <td>3.0</td>\n",
       "    </tr>\n",
       "    <tr>\n",
       "      <th>9</th>\n",
       "      <td>10</td>\n",
       "      <td>2012</td>\n",
       "      <td>2</td>\n",
       "      <td>Suicide</td>\n",
       "      <td>0</td>\n",
       "      <td>M</td>\n",
       "      <td>NaN</td>\n",
       "      <td>Black</td>\n",
       "      <td>998</td>\n",
       "      <td>Home</td>\n",
       "      <td>5.0</td>\n",
       "    </tr>\n",
       "  </tbody>\n",
       "</table>\n",
       "</div>"
      ],
      "text/plain": [
       "   Unnamed: 0  year  month        intent  police sex   age  \\\n",
       "0           1  2012      1       Suicide       0   M  34.0   \n",
       "1           2  2012      1       Suicide       0   F  21.0   \n",
       "2           3  2012      1       Suicide       0   M  60.0   \n",
       "3           4  2012      2       Suicide       0   M  64.0   \n",
       "4           5  2012      2       Suicide       0   M  31.0   \n",
       "5           6  2012      2       Suicide       0   M  17.0   \n",
       "6           7  2012      2  Undetermined       0   M  48.0   \n",
       "7           8  2012      3       Suicide       0   M  41.0   \n",
       "8           9  2012      2    Accidental       0   M  50.0   \n",
       "9          10  2012      2       Suicide       0   M   NaN   \n",
       "\n",
       "                             race  hispanic            place  education  \n",
       "0          Asian/Pacific Islander       100             Home        4.0  \n",
       "1                           White       100           Street        3.0  \n",
       "2                           White       100  Other specified        4.0  \n",
       "3                           White       100             Home        4.0  \n",
       "4                           White       100  Other specified        2.0  \n",
       "5  Native American/Native Alaskan       100             Home        1.0  \n",
       "6                           White       100             Home        2.0  \n",
       "7  Native American/Native Alaskan       100             Home        2.0  \n",
       "8                           White       100  Other specified        3.0  \n",
       "9                           Black       998             Home        5.0  "
      ]
     },
     "execution_count": 25,
     "metadata": {},
     "output_type": "execute_result"
    }
   ],
   "source": [
    "#print the first few rows\n",
    "guns.iloc[0:10,:]"
   ]
  },
  {
   "cell_type": "code",
   "execution_count": 26,
   "metadata": {
    "collapsed": false
   },
   "outputs": [],
   "source": [
    "#################################################################\n",
    "# Function to gen a graph \n",
    "# - data = the pandas.datastream\n",
    "# - col = colums name\n",
    "# - annotation = \"middle\" or \"top\" to see the value on top of the bar or in the middle of the bar \n",
    "# - rot = 0 to 90 for the rotation level of the ticklabels\n",
    "#################################################################\n",
    "def MakeMyGraph(data, col, annotation=\"middle\", hue=None, addtop=0, rot=0, ymax=0, **parg):\n",
    "    # Global Style\n",
    "    sns.set(style=\"white\")\n",
    "\n",
    "    #gen the plot\n",
    "    ax = sns.countplot(x=col, hue=hue, data=data, **parg)\n",
    "\n",
    "    #handling annotation\n",
    "    if annotation == \"middle\":\n",
    "        for p in ax.patches:\n",
    "            ax.text(p.get_x()+p.get_width()/2, p.get_height()/2, int(p.get_height()), color=\"w\", fontweight=\"bold\", ha=\"center\", va=\"center\")\n",
    "            if ymax < p.get_height():\n",
    "                ymax = p.get_height()\n",
    "    elif annotation == \"top\":\n",
    "        for p in ax.patches:\n",
    "            ax.text(p.get_x()+p.get_width()/2, p.get_height()+addtop, int(p.get_height()), color=\"black\", ha=\"center\", va=\"center\")\n",
    "            if ymax < p.get_height():\n",
    "                ymax = p.get_height()\n",
    "    else:\n",
    "        print(\"Error A : bad annotation parameter\")\n",
    "    \n",
    "    #settings\n",
    "    ax.tick_params(bottom=\"off\", top=\"off\", left=\"off\", right=\"off\") #Hiding Tick Marks\n",
    "    ax.set_yticks([0,int(ymax)]) #show only the extreme value\n",
    "    ax.set_ylabel(\"\") #hiding the \"count\" label\n",
    "    for t in ax.get_xticklabels():\n",
    "        t.set(rotation=rot)\n",
    "    sns.despine(left=True, bottom=True) #hiding axes left/right/top/bottom\n",
    "    \n",
    "    #affiche le graph\n",
    "    plt.show()\n"
   ]
  },
  {
   "cell_type": "markdown",
   "metadata": {},
   "source": [
    "# Gun Deaths by Year"
   ]
  },
  {
   "cell_type": "code",
   "execution_count": 27,
   "metadata": {
    "collapsed": false
   },
   "outputs": [
    {
     "data": {
      "image/png": "[encoded data removed]",
      "text/plain": [
       "<matplotlib.figure.Figure at 0x11c5b8f60>"
      ]
     },
     "metadata": {},
     "output_type": "display_data"
    }
   ],
   "source": [
    "MakeMyGraph(data=guns, col=\"year\", annotation=\"middle\", rot=0, ymax=34000)"
   ]
  },
  {
   "cell_type": "markdown",
   "metadata": {},
   "source": [
    "Deaths by guns is pretty stable over the years."
   ]
  },
  {
   "cell_type": "markdown",
   "metadata": {},
   "source": [
    "# Gun Deaths by Year and Month"
   ]
  },
  {
   "cell_type": "code",
   "execution_count": 28,
   "metadata": {
    "collapsed": false
   },
   "outputs": [
    {
     "data": {
      "image/png": "[encoded data removed]",
      "text/plain": [
       "<matplotlib.figure.Figure at 0x11bb8fef0>"
      ]
     },
     "metadata": {},
     "output_type": "display_data"
    }
   ],
   "source": [
    "#set sns style\n",
    "sns.set(style=\"white\")\n",
    "\n",
    "#gen the plot\n",
    "ax = sns.countplot(x=\"month\", hue=\"year\", data=guns)\n",
    "\n",
    "ax.tick_params(bottom=\"off\", top=\"off\", left=\"off\", right=\"off\") #Hiding Tick Marks\n",
    "ax.set_yticks([0,3100]) #show only the extreme value\n",
    "ax.set_ylabel(\"\") #hiding the \"count\" label\n",
    "\n",
    "sns.despine(left=True, bottom=True) #hiding axes left/right/top/bottom\n",
    "plt.legend(bbox_to_anchor=(1.05, 1), loc=2, borderaxespad=0.)\n",
    "\n",
    "#print the graph\n",
    "plt.show()"
   ]
  },
  {
   "cell_type": "markdown",
   "metadata": {},
   "source": [
    "We can see a minor seasonal correlation, with gun deaths peaking in the summer and declining in the winter. "
   ]
  },
  {
   "cell_type": "markdown",
   "metadata": {},
   "source": [
    "# Guns Deaths By Race And Sex"
   ]
  },
  {
   "cell_type": "code",
   "execution_count": 29,
   "metadata": {
    "collapsed": false
   },
   "outputs": [
    {
     "data": {
      "image/png": "[encoded data removed]",
      "text/plain": [
       "<matplotlib.figure.Figure at 0x11b6e9ac8>"
      ]
     },
     "metadata": {},
     "output_type": "display_data"
    }
   ],
   "source": [
    "MakeMyGraph(data=guns, col=\"sex\", annotation=\"middle\", rot=0, ymax=87000)"
   ]
  },
  {
   "cell_type": "markdown",
   "metadata": {},
   "source": [
    "As might be supposed, men are much more represented."
   ]
  },
  {
   "cell_type": "code",
   "execution_count": 30,
   "metadata": {
    "collapsed": false
   },
   "outputs": [
    {
     "data": {
      "image/png": "[encoded data removed]",
      "text/plain": [
       "<matplotlib.figure.Figure at 0x11b3186d8>"
      ]
     },
     "metadata": {},
     "output_type": "display_data"
    }
   ],
   "source": [
    "MakeMyGraph(data=guns, col=\"race\", annotation=\"top\", addtop=1300, rot=55, ymax=67000)"
   ]
  },
  {
   "cell_type": "markdown",
   "metadata": {},
   "source": [
    "Without the structure of the population we can say nothing really relevant."
   ]
  },
  {
   "cell_type": "markdown",
   "metadata": {},
   "source": [
    "# Structure of the US population\n",
    "    We will add the 2010 census data to continue the analysis. "
   ]
  },
  {
   "cell_type": "code",
   "execution_count": 31,
   "metadata": {
    "collapsed": false
   },
   "outputs": [
    {
     "data": {
      "text/html": [
       "<div>\n",
       "<table border=\"1\" class=\"dataframe\">\n",
       "  <thead>\n",
       "    <tr style=\"text-align: right;\">\n",
       "      <th></th>\n",
       "      <th>Id</th>\n",
       "      <th>Year</th>\n",
       "      <th>Id.1</th>\n",
       "      <th>Sex</th>\n",
       "      <th>Id.2</th>\n",
       "      <th>Hispanic Origin</th>\n",
       "      <th>Id.3</th>\n",
       "      <th>Id2</th>\n",
       "      <th>Geography</th>\n",
       "      <th>Total</th>\n",
       "      <th>Race Alone - White</th>\n",
       "      <th>Race Alone - Hispanic</th>\n",
       "      <th>Race Alone - Black or African American</th>\n",
       "      <th>Race Alone - American Indian and Alaska Native</th>\n",
       "      <th>Race Alone - Asian</th>\n",
       "      <th>Race Alone - Native Hawaiian and Other Pacific Islander</th>\n",
       "      <th>Two or More Races</th>\n",
       "    </tr>\n",
       "  </thead>\n",
       "  <tbody>\n",
       "    <tr>\n",
       "      <th>0</th>\n",
       "      <td>cen42010</td>\n",
       "      <td>April 1, 2010 Census</td>\n",
       "      <td>totsex</td>\n",
       "      <td>Both Sexes</td>\n",
       "      <td>tothisp</td>\n",
       "      <td>Total</td>\n",
       "      <td>0100000US</td>\n",
       "      <td>NaN</td>\n",
       "      <td>United States</td>\n",
       "      <td>308745538</td>\n",
       "      <td>197318956</td>\n",
       "      <td>44618105</td>\n",
       "      <td>40250635</td>\n",
       "      <td>3739506</td>\n",
       "      <td>15159516</td>\n",
       "      <td>674625</td>\n",
       "      <td>6984195</td>\n",
       "    </tr>\n",
       "  </tbody>\n",
       "</table>\n",
       "</div>"
      ],
      "text/plain": [
       "         Id                  Year    Id.1         Sex     Id.2  \\\n",
       "0  cen42010  April 1, 2010 Census  totsex  Both Sexes  tothisp   \n",
       "\n",
       "  Hispanic Origin       Id.3  Id2      Geography      Total  \\\n",
       "0           Total  0100000US  NaN  United States  308745538   \n",
       "\n",
       "   Race Alone - White  Race Alone - Hispanic  \\\n",
       "0           197318956               44618105   \n",
       "\n",
       "   Race Alone - Black or African American  \\\n",
       "0                                40250635   \n",
       "\n",
       "   Race Alone - American Indian and Alaska Native  Race Alone - Asian  \\\n",
       "0                                         3739506            15159516   \n",
       "\n",
       "   Race Alone - Native Hawaiian and Other Pacific Islander  Two or More Races  \n",
       "0                                             674625                  6984195  "
      ]
     },
     "execution_count": 31,
     "metadata": {},
     "output_type": "execute_result"
    }
   ],
   "source": [
    "# Open the data\n",
    "census = pd.read_csv(\"census.csv\")\n",
    "# Quick view\n",
    "census.iloc[:,:]"
   ]
  },
  {
   "cell_type": "code",
   "execution_count": 32,
   "metadata": {
    "collapsed": false
   },
   "outputs": [
    {
     "data": {
      "text/html": [
       "<div>\n",
       "<table border=\"1\" class=\"dataframe\">\n",
       "  <thead>\n",
       "    <tr style=\"text-align: right;\">\n",
       "      <th></th>\n",
       "      <th>White</th>\n",
       "      <th>Hispanic</th>\n",
       "      <th>Black</th>\n",
       "      <th>Native American/Native Alaskan</th>\n",
       "      <th>Asian/Pacific Islander</th>\n",
       "    </tr>\n",
       "  </thead>\n",
       "  <tbody>\n",
       "    <tr>\n",
       "      <th>0</th>\n",
       "      <td>197318956</td>\n",
       "      <td>44618105</td>\n",
       "      <td>40250635</td>\n",
       "      <td>3739506</td>\n",
       "      <td>15834141</td>\n",
       "    </tr>\n",
       "  </tbody>\n",
       "</table>\n",
       "</div>"
      ],
      "text/plain": [
       "       White  Hispanic     Black  Native American/Native Alaskan  \\\n",
       "0  197318956  44618105  40250635                         3739506   \n",
       "\n",
       "   Asian/Pacific Islander  \n",
       "0                15834141  "
      ]
     },
     "execution_count": 32,
     "metadata": {},
     "output_type": "execute_result"
    }
   ],
   "source": [
    "# extract the col we need\n",
    "new_census = census.iloc[:,10:14]\n",
    "# Data preprocessing\n",
    "# Asian/Pacific Islander = Asian + Native Hawaiian and Other Pacific Islander\n",
    "new_census[\"Asian/Pacific Islander\"] = census[\"Race Alone - Asian\"] + census[\"Race Alone - Native Hawaiian and Other Pacific Islander\"]\n",
    "new_census.iloc[:,:]\n",
    "\n",
    "# renaming the col\n",
    "mapping = {\n",
    "    \"Race Alone - White\" : \"White\",\n",
    "    \"Race Alone - Hispanic\" : \"Hispanic\",\n",
    "    \"Race Alone - Black or African American\" : \"Black\",\n",
    "    \"Race Alone - American Indian and Alaska Native\" : \"Native American/Native Alaskan\"\n",
    "}\n",
    "new_census.rename(columns=mapping, inplace=True)\n",
    "new_census.iloc[:,:]"
   ]
  },
  {
   "cell_type": "code",
   "execution_count": 33,
   "metadata": {
    "collapsed": false
   },
   "outputs": [
    {
     "name": "stdout",
     "output_type": "stream",
     "text": [
      "White                             66237\n",
      "Black                             23296\n",
      "Hispanic                           9022\n",
      "Asian/Pacific Islander             1326\n",
      "Native American/Native Alaskan      917\n",
      "Name: race, dtype: int64\n"
     ]
    }
   ],
   "source": [
    "# Guns Deaths By Race\n",
    "race_counts = guns[\"race\"].value_counts()\n",
    "print(race_counts)"
   ]
  },
  {
   "cell_type": "markdown",
   "metadata": {},
   "source": [
    "# Guns Deaths Rate By Race "
   ]
  },
  {
   "cell_type": "code",
   "execution_count": 34,
   "metadata": {
    "collapsed": true
   },
   "outputs": [],
   "source": [
    "# Total Guns Deaths By Race \n",
    "rate_per_hundredk = (race_counts / new_census) * 100000"
   ]
  },
  {
   "cell_type": "code",
   "execution_count": 35,
   "metadata": {
    "collapsed": false
   },
   "outputs": [
    {
     "data": {
      "text/html": [
       "<div>\n",
       "<table border=\"1\" class=\"dataframe\">\n",
       "  <thead>\n",
       "    <tr style=\"text-align: right;\">\n",
       "      <th></th>\n",
       "      <th>Asian/Pacific Islander</th>\n",
       "      <th>Black</th>\n",
       "      <th>Hispanic</th>\n",
       "      <th>Native American/Native Alaskan</th>\n",
       "      <th>White</th>\n",
       "    </tr>\n",
       "  </thead>\n",
       "  <tbody>\n",
       "    <tr>\n",
       "      <th>0</th>\n",
       "      <td>8.37431</td>\n",
       "      <td>57.877348</td>\n",
       "      <td>20.220491</td>\n",
       "      <td>24.521956</td>\n",
       "      <td>33.568493</td>\n",
       "    </tr>\n",
       "  </tbody>\n",
       "</table>\n",
       "</div>"
      ],
      "text/plain": [
       "   Asian/Pacific Islander      Black   Hispanic  \\\n",
       "0                 8.37431  57.877348  20.220491   \n",
       "\n",
       "   Native American/Native Alaskan      White  \n",
       "0                       24.521956  33.568493  "
      ]
     },
     "execution_count": 35,
     "metadata": {},
     "output_type": "execute_result"
    }
   ],
   "source": [
    "# Printing the result\n",
    "rate_per_hundredk.iloc[:,:]"
   ]
  },
  {
   "cell_type": "code",
   "execution_count": 36,
   "metadata": {
    "collapsed": false
   },
   "outputs": [
    {
     "data": {
      "image/png": "[encoded data removed]",
      "text/plain": [
       "<matplotlib.figure.Figure at 0x11b62b2b0>"
      ]
     },
     "metadata": {},
     "output_type": "display_data"
    }
   ],
   "source": [
    "# Plotting the result\n",
    "sns.set(style=\"white\") #style\n",
    "x = rate_per_hundredk.T[0].index\n",
    "y = rate_per_hundredk.T[0].values\n",
    "\n",
    "fig, ax = plt.subplots(figsize=(12,6)) #set the size of the figure\n",
    "\n",
    "rect = sns.barplot(x, y) #barplot\n",
    "\n",
    "#gestion des annotations \n",
    "for p in ax.patches:\n",
    "    ax.text(p.get_x()+p.get_width()/2, p.get_height()/2, round(p.get_height(), 2), color=\"w\", fontweight=\"bold\", ha=\"center\", va=\"center\")\n",
    "\n",
    "ax.tick_params(bottom=\"off\", top=\"off\", left=\"off\", right=\"off\")\n",
    "ax.set_yticks([])\n",
    "ax.set_ylabel(\"\")\n",
    "\n",
    "sns.despine(left=True, bottom=True)\n",
    "\n",
    "plt.show()"
   ]
  },
  {
   "cell_type": "markdown",
   "metadata": {},
   "source": [
    "It seems that an ethnic bias exists. Interesting to see the high rate for the white, we need to investigate that."
   ]
  },
  {
   "cell_type": "markdown",
   "metadata": {},
   "source": [
    "# Filter by intent\n",
    "    Focusing on Homicide"
   ]
  },
  {
   "cell_type": "code",
   "execution_count": 37,
   "metadata": {
    "collapsed": false
   },
   "outputs": [
    {
     "data": {
      "text/html": [
       "<div>\n",
       "<table border=\"1\" class=\"dataframe\">\n",
       "  <thead>\n",
       "    <tr style=\"text-align: right;\">\n",
       "      <th></th>\n",
       "      <th>Asian/Pacific Islander</th>\n",
       "      <th>Black</th>\n",
       "      <th>Hispanic</th>\n",
       "      <th>Native American/Native Alaskan</th>\n",
       "      <th>White</th>\n",
       "    </tr>\n",
       "  </thead>\n",
       "  <tbody>\n",
       "    <tr>\n",
       "      <th>0</th>\n",
       "      <td>3.530346</td>\n",
       "      <td>48.471285</td>\n",
       "      <td>12.627161</td>\n",
       "      <td>8.717729</td>\n",
       "      <td>4.635642</td>\n",
       "    </tr>\n",
       "  </tbody>\n",
       "</table>\n",
       "</div>"
      ],
      "text/plain": [
       "   Asian/Pacific Islander      Black   Hispanic  \\\n",
       "0                3.530346  48.471285  12.627161   \n",
       "\n",
       "   Native American/Native Alaskan     White  \n",
       "0                        8.717729  4.635642  "
      ]
     },
     "execution_count": 37,
     "metadata": {},
     "output_type": "execute_result"
    }
   ],
   "source": [
    "# Filter by Homicide\n",
    "homicide = guns[guns[\"intent\"] == \"Homicide\"]\n",
    "# Homicide by etnie\n",
    "homicide_race_counts = homicide[\"race\"].value_counts()\n",
    "# Computing the Gun Homicide rate\n",
    "homicide_rate_per_hundredk = (homicide_race_counts / new_census) * 100000\n",
    "# Printing the result\n",
    "homicide_rate_per_hundredk.iloc[:,:]"
   ]
  },
  {
   "cell_type": "code",
   "execution_count": 38,
   "metadata": {
    "collapsed": false
   },
   "outputs": [
    {
     "data": {
      "image/png": "[encoded data removed]",
      "text/plain": [
       "<matplotlib.figure.Figure at 0x11b622a90>"
      ]
     },
     "metadata": {},
     "output_type": "display_data"
    }
   ],
   "source": [
    "# Plotting the result\n",
    "sns.set(style=\"white\") #style\n",
    "x = homicide_rate_per_hundredk.T[0].index\n",
    "y = homicide_rate_per_hundredk.T[0].values\n",
    "\n",
    "fig, ax = plt.subplots(figsize=(12,6)) #set the size of the figure\n",
    "\n",
    "rect = sns.barplot(x, y) #barplot\n",
    "\n",
    "#gestion des annotations \n",
    "for p in ax.patches:\n",
    "    ax.text(p.get_x()+p.get_width()/2, p.get_height()/2, int(p.get_height()), color=\"w\", fontweight=\"bold\", ha=\"center\", va=\"center\")\n",
    "\n",
    "ax.tick_params(bottom=\"off\", top=\"off\", left=\"off\", right=\"off\")\n",
    "ax.set_yticks([]) \n",
    "ax.set_ylabel(\"\")\n",
    "\n",
    "sns.despine(left=True, bottom=True)"
   ]
  },
  {
   "cell_type": "markdown",
   "metadata": {},
   "source": [
    "    It seems like the black population have a bigger homicide rate per 100 000 than the other comunities. It appears that gun related homicides in the US impact racial categories differently."
   ]
  },
  {
   "cell_type": "code",
   "execution_count": 39,
   "metadata": {
    "collapsed": false
   },
   "outputs": [
    {
     "data": {
      "image/png": "[encoded data removed]",
      "text/plain": [
       "<matplotlib.figure.Figure at 0x11b61e080>"
      ]
     },
     "metadata": {},
     "output_type": "display_data"
    }
   ],
   "source": [
    "# subset the white\n",
    "thewhites = guns[guns[\"race\"]==\"White\"]\n",
    "# plotting the result\n",
    "MakeMyGraph(data=thewhites, col=\"intent\", annotation=\"top\", addtop=2000, rot=0, ymax=58000)"
   ]
  },
  {
   "cell_type": "markdown",
   "metadata": {},
   "source": [
    "Gun's Suicide is the main reason of guns deaths for white racial categorie. That's explain the high rate we have seen before."
   ]
  }
 ],
 "metadata": {
  "anaconda-cloud": {},
  "kernelspec": {
   "display_name": "Python [conda root]",
   "language": "python",
   "name": "conda-root-py"
  },
  "language_info": {
   "codemirror_mode": {
    "name": "ipython",
    "version": 3
   },
   "file_extension": ".py",
   "mimetype": "text/x-python",
   "name": "python",
   "nbconvert_exporter": "python",
   "pygments_lexer": "ipython3",
   "version": "3.5.2"
  }
 },
 "nbformat": 4,
 "nbformat_minor": 2
}
